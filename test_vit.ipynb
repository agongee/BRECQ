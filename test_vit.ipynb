{
 "cells": [
  {
   "cell_type": "code",
   "execution_count": 1,
   "metadata": {},
   "outputs": [
    {
     "name": "stdout",
     "output_type": "stream",
     "text": [
      "You are using fake SyncBatchNorm2d who is actually the official BatchNorm2d\n"
     ]
    },
    {
     "name": "stderr",
     "output_type": "stream",
     "text": [
      "/home/dev/anaconda3/envs/quant/lib/python3.9/site-packages/tqdm/auto.py:21: TqdmWarning: IProgress not found. Please update jupyter and ipywidgets. See https://ipywidgets.readthedocs.io/en/stable/user_install.html\n",
      "  from .autonotebook import tqdm as notebook_tqdm\n"
     ]
    }
   ],
   "source": [
    "import torch\n",
    "import torch.nn as nn\n",
    "import argparse\n",
    "import os\n",
    "import random\n",
    "import numpy as np\n",
    "import time\n",
    "import timm\n",
    "from quant import *\n",
    "from data.imagenet import build_imagenet_data\n"
   ]
  },
  {
   "cell_type": "code",
   "execution_count": 2,
   "metadata": {},
   "outputs": [],
   "source": [
    "netname = 'vit_tiny_patch16_224'"
   ]
  },
  {
   "cell_type": "code",
   "execution_count": 3,
   "metadata": {},
   "outputs": [],
   "source": [
    "net = timm.create_model(netname, pretrained=True)"
   ]
  },
  {
   "cell_type": "code",
   "execution_count": 4,
   "metadata": {},
   "outputs": [],
   "source": [
    "def test(net):\n",
    "    for name, module in net.named_children():\n",
    "        if isinstance(module, nn.Sequential):\n",
    "            print(f\"============= {name} ==============\")\n",
    "            test(module)\n",
    "        else:\n",
    "            print(f\"{name} = {type(module)}\")"
   ]
  },
  {
   "cell_type": "code",
   "execution_count": 5,
   "metadata": {},
   "outputs": [
    {
     "name": "stdout",
     "output_type": "stream",
     "text": [
      "patch_embed = <class 'timm.layers.patch_embed.PatchEmbed'>\n",
      "pos_drop = <class 'torch.nn.modules.dropout.Dropout'>\n",
      "patch_drop = <class 'torch.nn.modules.linear.Identity'>\n",
      "norm_pre = <class 'torch.nn.modules.linear.Identity'>\n",
      "============= blocks ==============\n",
      "0 = <class 'timm.models.vision_transformer.Block'>\n",
      "1 = <class 'timm.models.vision_transformer.Block'>\n",
      "2 = <class 'timm.models.vision_transformer.Block'>\n",
      "3 = <class 'timm.models.vision_transformer.Block'>\n",
      "4 = <class 'timm.models.vision_transformer.Block'>\n",
      "5 = <class 'timm.models.vision_transformer.Block'>\n",
      "6 = <class 'timm.models.vision_transformer.Block'>\n",
      "7 = <class 'timm.models.vision_transformer.Block'>\n",
      "8 = <class 'timm.models.vision_transformer.Block'>\n",
      "9 = <class 'timm.models.vision_transformer.Block'>\n",
      "10 = <class 'timm.models.vision_transformer.Block'>\n",
      "11 = <class 'timm.models.vision_transformer.Block'>\n",
      "norm = <class 'torch.nn.modules.normalization.LayerNorm'>\n",
      "fc_norm = <class 'torch.nn.modules.linear.Identity'>\n",
      "head_drop = <class 'torch.nn.modules.dropout.Dropout'>\n",
      "head = <class 'torch.nn.modules.linear.Linear'>\n"
     ]
    }
   ],
   "source": [
    "test(net)"
   ]
  },
  {
   "cell_type": "code",
   "execution_count": null,
   "metadata": {},
   "outputs": [],
   "source": []
  },
  {
   "cell_type": "code",
   "execution_count": null,
   "metadata": {},
   "outputs": [],
   "source": []
  }
 ],
 "metadata": {
  "kernelspec": {
   "display_name": "quant",
   "language": "python",
   "name": "python3"
  },
  "language_info": {
   "codemirror_mode": {
    "name": "ipython",
    "version": 3
   },
   "file_extension": ".py",
   "mimetype": "text/x-python",
   "name": "python",
   "nbconvert_exporter": "python",
   "pygments_lexer": "ipython3",
   "version": "3.9.18"
  }
 },
 "nbformat": 4,
 "nbformat_minor": 2
}
